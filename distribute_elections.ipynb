{
  "nbformat": 4,
  "nbformat_minor": 0,
  "metadata": {
    "kernelspec": {
      "display_name": "Python 3",
      "name": "python3",
      "language": "python"
    },
    "language_info": {
      "mimetype": "text/x-python",
      "nbconvert_exporter": "python",
      "name": "python",
      "file_extension": ".py",
      "version": "3.7.6",
      "pygments_lexer": "ipython3",
      "codemirror_mode": {
        "version": 3,
        "name": "ipython"
      }
    },
    "celltoolbar": "Edit Metadata",
    "colab": {
      "name": "distribute_elections.ipynb",
      "provenance": []
    }
  },
  "cells": [
    {
      "cell_type": "markdown",
      "metadata": {
        "id": "d6RQH-lKjWjl"
      },
      "source": [
        "# Predicting Elections"
      ]
    },
    {
      "cell_type": "markdown",
      "metadata": {
        "id": "8jB3gjaYjWjy"
      },
      "source": [
        "## PART 1: A Simple Election Model\n",
        "\n",
        "Let us import data that contains a table of probabilities that PredictWise made on October 2, 2012 for the US presidential elections. PredictWise aggregated polling data and, for each state, estimated the probability that Obama or Romney would win. We import the required libraries first."
      ]
    },
    {
      "cell_type": "code",
      "metadata": {
        "id": "9FTz1f61jWj0"
      },
      "source": [
        "%matplotlib inline\n",
        "import numpy as np\n",
        "import matplotlib.pyplot as plt"
      ],
      "execution_count": 26,
      "outputs": []
    },
    {
      "cell_type": "code",
      "metadata": {
        "id": "sbctZmBejWj1"
      },
      "source": [
        "import pandas as pd # imports a library to handle data as dataframe"
      ],
      "execution_count": 27,
      "outputs": []
    },
    {
      "cell_type": "code",
      "metadata": {
        "id": "VXxm55-Orqnv",
        "outputId": "57690143-d728-4953-9a4b-da4f4e3b4347",
        "colab": {
          "base_uri": "https://localhost:8080/"
        }
      },
      "source": [
        "!wget https://raw.githubusercontent.com/bitanb1999/HalfDayHacking/main/data/predictwise.csv"
      ],
      "execution_count": 31,
      "outputs": [
        {
          "output_type": "stream",
          "text": [
            "--2020-12-26 06:15:32--  https://raw.githubusercontent.com/bitanb1999/HalfDayHacking/main/data/predictwise.csv\n",
            "Resolving raw.githubusercontent.com (raw.githubusercontent.com)... 151.101.0.133, 151.101.64.133, 151.101.128.133, ...\n",
            "Connecting to raw.githubusercontent.com (raw.githubusercontent.com)|151.101.0.133|:443... connected.\n",
            "HTTP request sent, awaiting response... 200 OK\n",
            "Length: 1365 (1.3K) [text/plain]\n",
            "Saving to: ‘predictwise.csv.7’\n",
            "\n",
            "predictwise.csv.7   100%[===================>]   1.33K  --.-KB/s    in 0s      \n",
            "\n",
            "2020-12-26 06:15:32 (56.1 MB/s) - ‘predictwise.csv.7’ saved [1365/1365]\n",
            "\n"
          ],
          "name": "stdout"
        }
      ]
    },
    {
      "cell_type": "code",
      "metadata": {
        "colab": {
          "base_uri": "https://localhost:8080/",
          "height": 390
        },
        "id": "NUtkNli3jWj2",
        "outputId": "c5566592-1f4a-4ce0-8240-19987cffff26"
      },
      "source": [
        "predictwise = pd.read_csv('predictwise.csv.7').set_index('States')\n",
        "predictwise.head(10)"
      ],
      "execution_count": 36,
      "outputs": [
        {
          "output_type": "execute_result",
          "data": {
            "text/html": [
              "<div>\n",
              "<style scoped>\n",
              "    .dataframe tbody tr th:only-of-type {\n",
              "        vertical-align: middle;\n",
              "    }\n",
              "\n",
              "    .dataframe tbody tr th {\n",
              "        vertical-align: top;\n",
              "    }\n",
              "\n",
              "    .dataframe thead th {\n",
              "        text-align: right;\n",
              "    }\n",
              "</style>\n",
              "<table border=\"1\" class=\"dataframe\">\n",
              "  <thead>\n",
              "    <tr style=\"text-align: right;\">\n",
              "      <th></th>\n",
              "      <th>Obama</th>\n",
              "      <th>Romney</th>\n",
              "      <th>Votes</th>\n",
              "    </tr>\n",
              "    <tr>\n",
              "      <th>States</th>\n",
              "      <th></th>\n",
              "      <th></th>\n",
              "      <th></th>\n",
              "    </tr>\n",
              "  </thead>\n",
              "  <tbody>\n",
              "    <tr>\n",
              "      <th>Alabama</th>\n",
              "      <td>0.000</td>\n",
              "      <td>1.000</td>\n",
              "      <td>9</td>\n",
              "    </tr>\n",
              "    <tr>\n",
              "      <th>Alaska</th>\n",
              "      <td>0.000</td>\n",
              "      <td>1.000</td>\n",
              "      <td>3</td>\n",
              "    </tr>\n",
              "    <tr>\n",
              "      <th>Arizona</th>\n",
              "      <td>0.062</td>\n",
              "      <td>0.938</td>\n",
              "      <td>11</td>\n",
              "    </tr>\n",
              "    <tr>\n",
              "      <th>Arkansas</th>\n",
              "      <td>0.000</td>\n",
              "      <td>1.000</td>\n",
              "      <td>6</td>\n",
              "    </tr>\n",
              "    <tr>\n",
              "      <th>California</th>\n",
              "      <td>1.000</td>\n",
              "      <td>0.000</td>\n",
              "      <td>55</td>\n",
              "    </tr>\n",
              "    <tr>\n",
              "      <th>Colorado</th>\n",
              "      <td>0.807</td>\n",
              "      <td>0.193</td>\n",
              "      <td>9</td>\n",
              "    </tr>\n",
              "    <tr>\n",
              "      <th>Connecticut</th>\n",
              "      <td>1.000</td>\n",
              "      <td>0.000</td>\n",
              "      <td>7</td>\n",
              "    </tr>\n",
              "    <tr>\n",
              "      <th>Delaware</th>\n",
              "      <td>1.000</td>\n",
              "      <td>0.000</td>\n",
              "      <td>3</td>\n",
              "    </tr>\n",
              "    <tr>\n",
              "      <th>District of Columbia</th>\n",
              "      <td>1.000</td>\n",
              "      <td>0.000</td>\n",
              "      <td>3</td>\n",
              "    </tr>\n",
              "    <tr>\n",
              "      <th>Florida</th>\n",
              "      <td>0.720</td>\n",
              "      <td>0.280</td>\n",
              "      <td>29</td>\n",
              "    </tr>\n",
              "  </tbody>\n",
              "</table>\n",
              "</div>"
            ],
            "text/plain": [
              "                      Obama  Romney  Votes\n",
              "States                                    \n",
              "Alabama               0.000   1.000      9\n",
              "Alaska                0.000   1.000      3\n",
              "Arizona               0.062   0.938     11\n",
              "Arkansas              0.000   1.000      6\n",
              "California            1.000   0.000     55\n",
              "Colorado              0.807   0.193      9\n",
              "Connecticut           1.000   0.000      7\n",
              "Delaware              1.000   0.000      3\n",
              "District of Columbia  1.000   0.000      3\n",
              "Florida               0.720   0.280     29"
            ]
          },
          "metadata": {
            "tags": []
          },
          "execution_count": 36
        }
      ]
    },
    {
      "cell_type": "markdown",
      "metadata": {
        "id": "aOqVYI3-jWj2"
      },
      "source": [
        "Each row is the probability predicted by Predictwise that Romney or Obama would win a state. The votes column lists the number of electoral college votes in that state.\n",
        "\n",
        "In the case of tossed coins, even though we have a model which says that the probability of heads is 0.5, there are sequences of flips in which more or less than half the flips were heads. Similarly, here, if the probability of Romney winning in Arizona is 0.938, it means that if somehow, there were 1000 replications with an election each, Romney would win in 938 of those Arizonas **on the average** across the replications. And there would be some samples with Romney winning more, and some with less. We can run these **simulated** universes on a computer though not in real life.\n",
        "\n",
        "How did these probabilities come about. It does not matter. I might have fit a deep neural network, a bayesian model, or just asked people to bet (thats what predictwise did). Its all just a model."
      ]
    },
    {
      "cell_type": "markdown",
      "metadata": {
        "id": "xH5YZQZhjWj3"
      },
      "source": [
        "### Single simulation for a particular state\n",
        "\n",
        "Let us consider the sixth state, `Colorado` and do one random simulation for this state. We use the function `np.random.uniform` to draw 1 sample from a uniform distribution of interval \\[a,b) with an equal probability. The default values of a and b is \\[0,1). Documentation about the function [here](https://docs.scipy.org/doc/numpy-1.15.0/reference/generated/numpy.random.uniform.html)"
      ]
    },
    {
      "cell_type": "markdown",
      "metadata": {
        "id": "4By_OXjBjWj4"
      },
      "source": [
        "#### Uniform Distribution (in numpy)\n",
        "\n",
        "`np.random.uniform` gives you a random number between 0 and 1, uniformly. In other words, the number is equally likely to be between 0 and 0.1, 0.1 and 0.2, and so on. This is a very intuitive idea, but it is formalized by the notion of the **Uniform Distribution**.\n",
        "\n",
        "We then say:\n",
        "\n",
        "$$X \\sim Uniform([0,1),$$\n",
        "\n",
        "which is to be read as **X has distribution Uniform([0,1])**. "
      ]
    },
    {
      "cell_type": "code",
      "metadata": {
        "id": "3gQoyltxjWj5",
        "outputId": "fc75597b-d8c9-4358-8195-74ede2d44f64",
        "colab": {
          "base_uri": "https://localhost:8080/"
        }
      },
      "source": [
        "print(predictwise.loc['Colorado'])\n",
        "sim = np.random.uniform()\n",
        "print(sim)"
      ],
      "execution_count": 37,
      "outputs": [
        {
          "output_type": "stream",
          "text": [
            "Obama     0.807\n",
            "Romney    0.193\n",
            "Votes     9.000\n",
            "Name: Colorado, dtype: float64\n",
            "0.5316207922093074\n"
          ],
          "name": "stdout"
        }
      ]
    },
    {
      "cell_type": "markdown",
      "metadata": {
        "id": "23pvlRgTjWj5"
      },
      "source": [
        "Obama would would win Colorado for this particular simulation if his probability is higher than the random uniform number between 0 and 1. With and Obama probability of 0.807, Obama wins in this particular case."
      ]
    },
    {
      "cell_type": "code",
      "metadata": {
        "id": "3L7qTEQKjWj6",
        "outputId": "1e41f20b-f132-4552-8df2-b3f25965c9f5",
        "colab": {
          "base_uri": "https://localhost:8080/"
        }
      },
      "source": [
        "obama_win = (predictwise.loc['Colorado'].Obama > sim)*1\n",
        "print(obama_win)"
      ],
      "execution_count": 38,
      "outputs": [
        {
          "output_type": "stream",
          "text": [
            "1\n"
          ],
          "name": "stdout"
        }
      ]
    },
    {
      "cell_type": "markdown",
      "metadata": {
        "id": "y--kzLN5jWj7"
      },
      "source": [
        "Run this cell many times:"
      ]
    },
    {
      "cell_type": "code",
      "metadata": {
        "id": "7e0B4KlpjWj7",
        "outputId": "0752e896-b26b-46ce-e137-e275468a2378",
        "colab": {
          "base_uri": "https://localhost:8080/"
        }
      },
      "source": [
        "obama_win = (predictwise.loc['Colorado'].Obama > np.random.uniform())*1\n",
        "print(obama_win)"
      ],
      "execution_count": 45,
      "outputs": [
        {
          "output_type": "stream",
          "text": [
            "0\n"
          ],
          "name": "stdout"
        }
      ]
    },
    {
      "cell_type": "markdown",
      "metadata": {
        "id": "m6s3yxuVjWj7"
      },
      "source": [
        "Using `np.random.uniform` and comparing it to a probability threshold to get a 0 or 1 - this is nothing but a **Bernoulli Random Variable** for Colorado state.\n",
        "\n",
        "A Bernoulli Random Variable is the simplest kind of random variable. It can take on two values,\n",
        "1 and 0. It takes on a 1 if an experiment with probability *p* resulted in success and a 0 otherwise. A coin toss is another example of a Bernoulli Random Variable.  "
      ]
    },
    {
      "cell_type": "markdown",
      "metadata": {
        "id": "uo67DjKpjWkA"
      },
      "source": [
        "What assigning the vote to Obama when the random variable **drawn** from the Uniform distribution is less than the Predictwise probability of Obama winning (which is a Bernoulli Parameter) does for us is this: lets say we have a large number of simulations and $p_{Obama}=0.8$. Now if we draw lots of numbers between 0 and 1, uniformly, then 80\\% of the time, the random numbes drawn will be below 0.8. Thus we will now have many simulations with Obama either winning or losing, but winning about 80% of the time."
      ]
    },
    {
      "cell_type": "markdown",
      "metadata": {
        "id": "rBlI-6e6jWkB"
      },
      "source": [
        "### Multiple simulations for a particular State\n",
        "\n",
        "Now let's try and make 1000 simulations for Colorado. This is like making 1000 coin tosses with a biased coin. We expect Obama to win in about 80% of these"
      ]
    },
    {
      "cell_type": "code",
      "metadata": {
        "id": "RVmkyFJNjWkC",
        "outputId": "afae88ba-185e-44cf-e49c-1e56acef612e",
        "colab": {
          "base_uri": "https://localhost:8080/"
        }
      },
      "source": [
        "print(predictwise.loc['Colorado'])\n",
        "sims = np.random.uniform(size=1000)\n",
        "print(sims[:100])"
      ],
      "execution_count": 46,
      "outputs": [
        {
          "output_type": "stream",
          "text": [
            "Obama     0.807\n",
            "Romney    0.193\n",
            "Votes     9.000\n",
            "Name: Colorado, dtype: float64\n",
            "[0.46986387 0.77994041 0.04546838 0.52294812 0.508379   0.67593763\n",
            " 0.53126381 0.01721429 0.77658355 0.4124641  0.52100117 0.83919358\n",
            " 0.23379954 0.19984961 0.34898706 0.06544632 0.58864528 0.34661758\n",
            " 0.00475483 0.90357386 0.24223671 0.55775565 0.99303856 0.61688829\n",
            " 0.98636743 0.23131516 0.39484712 0.33865405 0.01695222 0.09904553\n",
            " 0.78958856 0.7107905  0.39878765 0.27924475 0.6432539  0.16112811\n",
            " 0.81025238 0.39146455 0.53992245 0.52089473 0.32244398 0.60598036\n",
            " 0.33291724 0.09179842 0.96285332 0.65880944 0.20623071 0.01935672\n",
            " 0.32707239 0.25880251 0.4973693  0.19427831 0.33468734 0.96460956\n",
            " 0.31231053 0.89688888 0.63705607 0.54255178 0.04172197 0.04122353\n",
            " 0.36436562 0.81304641 0.21273656 0.30165728 0.60346704 0.44252593\n",
            " 0.5367778  0.40049229 0.75180245 0.86552224 0.04037653 0.59802713\n",
            " 0.40419171 0.87559356 0.79751564 0.05592303 0.72931091 0.78638919\n",
            " 0.19122794 0.97752462 0.51995272 0.63569028 0.95236787 0.12262875\n",
            " 0.27594837 0.52321745 0.52220025 0.25495523 0.77894776 0.14190937\n",
            " 0.67721847 0.51941943 0.03904237 0.590716   0.57412439 0.78741598\n",
            " 0.32536371 0.40502648 0.48444524 0.94120225]\n"
          ],
          "name": "stdout"
        }
      ]
    },
    {
      "cell_type": "markdown",
      "metadata": {
        "id": "tOU8wRBIjWkC"
      },
      "source": [
        "With an Obama probability of about 0.8, This means that we can pick the simulations in which Obama wins Colorado by seeing in how many of the simulations the random number thrown is less than 0.8\n",
        "\n",
        "We are simply making use of numpy broadcasting semantics here:"
      ]
    },
    {
      "cell_type": "code",
      "metadata": {
        "id": "3ItLSAstjWkD",
        "outputId": "fa04fd3b-c382-4a3c-dcbe-17a85637b4fa",
        "colab": {
          "base_uri": "https://localhost:8080/"
        }
      },
      "source": [
        "wins = sims < predictwise.loc['Colorado'].Obama\n",
        "wins[:100]"
      ],
      "execution_count": 47,
      "outputs": [
        {
          "output_type": "execute_result",
          "data": {
            "text/plain": [
              "array([ True,  True,  True,  True,  True,  True,  True,  True,  True,\n",
              "        True,  True, False,  True,  True,  True,  True,  True,  True,\n",
              "        True, False,  True,  True, False,  True, False,  True,  True,\n",
              "        True,  True,  True,  True,  True,  True,  True,  True,  True,\n",
              "       False,  True,  True,  True,  True,  True,  True,  True, False,\n",
              "        True,  True,  True,  True,  True,  True,  True,  True, False,\n",
              "        True, False,  True,  True,  True,  True,  True, False,  True,\n",
              "        True,  True,  True,  True,  True,  True, False,  True,  True,\n",
              "        True, False,  True,  True,  True,  True,  True, False,  True,\n",
              "        True, False,  True,  True,  True,  True,  True,  True,  True,\n",
              "        True,  True,  True,  True,  True,  True,  True,  True,  True,\n",
              "       False])"
            ]
          },
          "metadata": {
            "tags": []
          },
          "execution_count": 47
        }
      ]
    },
    {
      "cell_type": "markdown",
      "metadata": {
        "id": "bMi6nl6JjWkD"
      },
      "source": [
        "This is a boolean numpy array. Summing coerces the True to 1 and False to 0 and gives us the total number of simulations.<br>"
      ]
    },
    {
      "cell_type": "code",
      "metadata": {
        "id": "eaI7ZokTjWkE",
        "outputId": "b95dc278-d071-427d-cd13-263355a18673",
        "colab": {
          "base_uri": "https://localhost:8080/"
        }
      },
      "source": [
        "np.sum(wins)"
      ],
      "execution_count": 48,
      "outputs": [
        {
          "output_type": "execute_result",
          "data": {
            "text/plain": [
              "842"
            ]
          },
          "metadata": {
            "tags": []
          },
          "execution_count": 48
        }
      ]
    },
    {
      "cell_type": "markdown",
      "metadata": {
        "id": "UhYR7W5SjWkE"
      },
      "source": [
        "Obama wins in 81% of the simulations, roughly, in Colorado"
      ]
    },
    {
      "cell_type": "markdown",
      "metadata": {
        "hide": true,
        "id": "gUFHxJKHjWkE"
      },
      "source": [
        "## Simulating the election model\n",
        "\n",
        "To do this, \n",
        "we will assume that the outcome in each state is the result of an independent coin flip whose probability of coming up Obama is given by the Predictwise state-wise win probabilities. Lets write a function `simulate_election` that uses this **predictive model** to simulate the outcome of the election given a table of probabilities.\n",
        "\n",
        "But first, what do we need to do to achieve this? We need to take the output of each simulation for a state and compare it to the predictiwise probability. Then we need to do this many times. Then we need to multiply in by the electoral votes in those states. And then sum over the states."
      ]
    },
    {
      "cell_type": "markdown",
      "metadata": {
        "id": "I83G0YgXjWkF"
      },
      "source": [
        "### Simulations on all states\n",
        "Lets do it for all the states now. Now we make 1000 simulations for all the states. We'll create 51 rows of 1000 random numbers (1000 columns) between 0 and 1 & try and see in how many votes Obama is able to gather in each simulation"
      ]
    },
    {
      "cell_type": "code",
      "metadata": {
        "jupyter": {
          "outputs_hidden": false
        },
        "id": "PVY7X5xBjWkG",
        "outputId": "52fa5202-ca58-4c8f-ad04-eaa9b7fbce48",
        "colab": {
          "base_uri": "https://localhost:8080/",
          "height": 235
        }
      },
      "source": [
        "predictwise = pd.read_csv('predictwise.csv.7').set_index('States')\n",
        "predictwise.head()"
      ],
      "execution_count": 50,
      "outputs": [
        {
          "output_type": "execute_result",
          "data": {
            "text/html": [
              "<div>\n",
              "<style scoped>\n",
              "    .dataframe tbody tr th:only-of-type {\n",
              "        vertical-align: middle;\n",
              "    }\n",
              "\n",
              "    .dataframe tbody tr th {\n",
              "        vertical-align: top;\n",
              "    }\n",
              "\n",
              "    .dataframe thead th {\n",
              "        text-align: right;\n",
              "    }\n",
              "</style>\n",
              "<table border=\"1\" class=\"dataframe\">\n",
              "  <thead>\n",
              "    <tr style=\"text-align: right;\">\n",
              "      <th></th>\n",
              "      <th>Obama</th>\n",
              "      <th>Romney</th>\n",
              "      <th>Votes</th>\n",
              "    </tr>\n",
              "    <tr>\n",
              "      <th>States</th>\n",
              "      <th></th>\n",
              "      <th></th>\n",
              "      <th></th>\n",
              "    </tr>\n",
              "  </thead>\n",
              "  <tbody>\n",
              "    <tr>\n",
              "      <th>Alabama</th>\n",
              "      <td>0.000</td>\n",
              "      <td>1.000</td>\n",
              "      <td>9</td>\n",
              "    </tr>\n",
              "    <tr>\n",
              "      <th>Alaska</th>\n",
              "      <td>0.000</td>\n",
              "      <td>1.000</td>\n",
              "      <td>3</td>\n",
              "    </tr>\n",
              "    <tr>\n",
              "      <th>Arizona</th>\n",
              "      <td>0.062</td>\n",
              "      <td>0.938</td>\n",
              "      <td>11</td>\n",
              "    </tr>\n",
              "    <tr>\n",
              "      <th>Arkansas</th>\n",
              "      <td>0.000</td>\n",
              "      <td>1.000</td>\n",
              "      <td>6</td>\n",
              "    </tr>\n",
              "    <tr>\n",
              "      <th>California</th>\n",
              "      <td>1.000</td>\n",
              "      <td>0.000</td>\n",
              "      <td>55</td>\n",
              "    </tr>\n",
              "  </tbody>\n",
              "</table>\n",
              "</div>"
            ],
            "text/plain": [
              "            Obama  Romney  Votes\n",
              "States                          \n",
              "Alabama     0.000   1.000      9\n",
              "Alaska      0.000   1.000      3\n",
              "Arizona     0.062   0.938     11\n",
              "Arkansas    0.000   1.000      6\n",
              "California  1.000   0.000     55"
            ]
          },
          "metadata": {
            "tags": []
          },
          "execution_count": 50
        }
      ]
    },
    {
      "cell_type": "code",
      "metadata": {
        "id": "5ifNAxWbjWkH",
        "outputId": "4a3ef0cb-7589-482d-ee12-3771a30f3c1f",
        "colab": {
          "base_uri": "https://localhost:8080/"
        }
      },
      "source": [
        "sims = np.random.uniform(size=(51, 1000))\n",
        "print(sims.shape)\n",
        "sims"
      ],
      "execution_count": 51,
      "outputs": [
        {
          "output_type": "stream",
          "text": [
            "(51, 1000)\n"
          ],
          "name": "stdout"
        },
        {
          "output_type": "execute_result",
          "data": {
            "text/plain": [
              "array([[0.55521927, 0.90809758, 0.71120403, ..., 0.67960345, 0.4535865 ,\n",
              "        0.77268543],\n",
              "       [0.5777497 , 0.1494576 , 0.41051479, ..., 0.38620356, 0.29804423,\n",
              "        0.28936349],\n",
              "       [0.75818912, 0.32085217, 0.20763672, ..., 0.49658537, 0.63629118,\n",
              "        0.15811647],\n",
              "       ...,\n",
              "       [0.33363822, 0.21397908, 0.62524781, ..., 0.61487478, 0.35965417,\n",
              "        0.13485122],\n",
              "       [0.94280304, 0.15912167, 0.00512678, ..., 0.42113937, 0.64033516,\n",
              "        0.51151344],\n",
              "       [0.16894432, 0.15999267, 0.50982789, ..., 0.72189652, 0.00700977,\n",
              "        0.33322739]])"
            ]
          },
          "metadata": {
            "tags": []
          },
          "execution_count": 51
        }
      ]
    },
    {
      "cell_type": "markdown",
      "metadata": {
        "id": "pif5urN-jWkI"
      },
      "source": [
        "Now we just need to compare each row of 1000 random numbers with the probability for that state to find how many of the simulations Obama wins:"
      ]
    },
    {
      "cell_type": "code",
      "metadata": {
        "id": "RZJ_UDlvjWkI",
        "outputId": "8f8bbe46-66f7-4c24-f460-c176c6738e17",
        "colab": {
          "base_uri": "https://localhost:8080/",
          "height": 163
        }
      },
      "source": [
        "sims < predictwise.Obama.values"
      ],
      "execution_count": 52,
      "outputs": [
        {
          "output_type": "error",
          "ename": "ValueError",
          "evalue": "ignored",
          "traceback": [
            "\u001b[0;31m---------------------------------------------------------------------------\u001b[0m",
            "\u001b[0;31mValueError\u001b[0m                                Traceback (most recent call last)",
            "\u001b[0;32m<ipython-input-52-dc571aaf1282>\u001b[0m in \u001b[0;36m<module>\u001b[0;34m()\u001b[0m\n\u001b[0;32m----> 1\u001b[0;31m \u001b[0msims\u001b[0m \u001b[0;34m<\u001b[0m \u001b[0mpredictwise\u001b[0m\u001b[0;34m.\u001b[0m\u001b[0mObama\u001b[0m\u001b[0;34m.\u001b[0m\u001b[0mvalues\u001b[0m\u001b[0;34m\u001b[0m\u001b[0;34m\u001b[0m\u001b[0m\n\u001b[0m",
            "\u001b[0;31mValueError\u001b[0m: operands could not be broadcast together with shapes (51,1000) (51,) "
          ]
        }
      ]
    },
    {
      "cell_type": "markdown",
      "metadata": {
        "id": "lFi62fyPjWkI"
      },
      "source": [
        "Doing this creates an error as the shape of **sims** and **predictwise.Obama.values** is not the same. We can use numpy.reshape to change the shape of our array"
      ]
    },
    {
      "cell_type": "markdown",
      "metadata": {
        "id": "DCvBLJosjWkJ"
      },
      "source": [
        "## Comparing simulations and numpy.reshape\n",
        "\n",
        "Reshape gives a new shape to the array without changing the data.  Detailed documentation about reshape [here](https://docs.scipy.org/doc/numpy/reference/generated/numpy.reshape.html). Let us take an example to show how reshape works"
      ]
    },
    {
      "cell_type": "code",
      "metadata": {
        "id": "7pZqef0QjWkJ",
        "outputId": "d3ad48ed-4e7b-41bf-8c82-d64d4ad488c6",
        "colab": {
          "base_uri": "https://localhost:8080/"
        }
      },
      "source": [
        "a= np.arange(6)\n",
        "print(a)\n",
        "print(a.shape)"
      ],
      "execution_count": 53,
      "outputs": [
        {
          "output_type": "stream",
          "text": [
            "[0 1 2 3 4 5]\n",
            "(6,)\n"
          ],
          "name": "stdout"
        }
      ]
    },
    {
      "cell_type": "code",
      "metadata": {
        "id": "ct7Fr-_ZjWkK",
        "outputId": "099a5c67-8a51-4526-9feb-674383a63c9b",
        "colab": {
          "base_uri": "https://localhost:8080/"
        }
      },
      "source": [
        "a.reshape(2,3)"
      ],
      "execution_count": 54,
      "outputs": [
        {
          "output_type": "execute_result",
          "data": {
            "text/plain": [
              "array([[0, 1, 2],\n",
              "       [3, 4, 5]])"
            ]
          },
          "metadata": {
            "tags": []
          },
          "execution_count": 54
        }
      ]
    },
    {
      "cell_type": "code",
      "metadata": {
        "id": "9EZHXSfgjWkK",
        "outputId": "3384d9f7-14d1-4db8-deed-4f625ceb399b",
        "colab": {
          "base_uri": "https://localhost:8080/"
        }
      },
      "source": [
        "print(a.reshape(-1,1))   # -1 as a parameter simply means that it is an unknown dimension and we want numpy to figure it out.\n",
        "print('New shape is: ', a.reshape(-1,1).shape)"
      ],
      "execution_count": 55,
      "outputs": [
        {
          "output_type": "stream",
          "text": [
            "[[0]\n",
            " [1]\n",
            " [2]\n",
            " [3]\n",
            " [4]\n",
            " [5]]\n",
            "New shape is:  (6, 1)\n"
          ],
          "name": "stdout"
        }
      ]
    },
    {
      "cell_type": "markdown",
      "metadata": {
        "id": "-TheW2IOjWkL"
      },
      "source": [
        "If we use `reshape` now to our predictwise Obama proababilities, we get 51 rows of 100 Trues and Falses"
      ]
    },
    {
      "cell_type": "code",
      "metadata": {
        "id": "HhiuVdoMjWkL",
        "outputId": "8d0f61c0-0968-42f2-bc11-f133213ebbd5",
        "colab": {
          "base_uri": "https://localhost:8080/"
        }
      },
      "source": [
        "how_many_won = sims < predictwise.Obama.values.reshape(-1,1) # reshape for broadcasting\n",
        "how_many_won"
      ],
      "execution_count": 56,
      "outputs": [
        {
          "output_type": "execute_result",
          "data": {
            "text/plain": [
              "array([[False, False, False, ..., False, False, False],\n",
              "       [False, False, False, ..., False, False, False],\n",
              "       [False, False, False, ..., False, False, False],\n",
              "       ...,\n",
              "       [False, False, False, ..., False, False, False],\n",
              "       [False,  True,  True, ...,  True,  True,  True],\n",
              "       [False, False, False, ..., False, False, False]])"
            ]
          },
          "metadata": {
            "tags": []
          },
          "execution_count": 56
        }
      ]
    },
    {
      "cell_type": "code",
      "metadata": {
        "id": "WUelBYUgjWkL",
        "outputId": "6146e0ee-16c9-4b9c-fb82-a40817bcfe9a",
        "colab": {
          "base_uri": "https://localhost:8080/"
        }
      },
      "source": [
        "how_many_won.shape"
      ],
      "execution_count": 57,
      "outputs": [
        {
          "output_type": "execute_result",
          "data": {
            "text/plain": [
              "(51, 1000)"
            ]
          },
          "metadata": {
            "tags": []
          },
          "execution_count": 57
        }
      ]
    },
    {
      "cell_type": "markdown",
      "metadata": {
        "id": "wSuKmjoejWkM"
      },
      "source": [
        "Multiply by the number of electoral Votes in each state"
      ]
    },
    {
      "cell_type": "code",
      "metadata": {
        "id": "0AXzd0zLjWkM",
        "outputId": "5252fd3b-7417-40da-9110-12de7141f40d",
        "colab": {
          "base_uri": "https://localhost:8080/"
        }
      },
      "source": [
        "how_many_electoral_votes = how_many_won*predictwise.Votes.values.reshape(-1,1)\n",
        "how_many_electoral_votes"
      ],
      "execution_count": 58,
      "outputs": [
        {
          "output_type": "execute_result",
          "data": {
            "text/plain": [
              "array([[ 0,  0,  0, ...,  0,  0,  0],\n",
              "       [ 0,  0,  0, ...,  0,  0,  0],\n",
              "       [ 0,  0,  0, ...,  0,  0,  0],\n",
              "       ...,\n",
              "       [ 0,  0,  0, ...,  0,  0,  0],\n",
              "       [ 0, 10, 10, ..., 10, 10, 10],\n",
              "       [ 0,  0,  0, ...,  0,  0,  0]])"
            ]
          },
          "metadata": {
            "tags": []
          },
          "execution_count": 58
        }
      ]
    },
    {
      "cell_type": "markdown",
      "metadata": {
        "id": "risK4gvvjWkN"
      },
      "source": [
        "If we sum the columns now (that is over the 50 states and DC), we get the total electoral votes in the country for Obama in each simulation"
      ]
    },
    {
      "cell_type": "code",
      "metadata": {
        "id": "iYQ-6urejWkN",
        "outputId": "e791e38d-0cff-4608-f199-d59911700b4b",
        "colab": {
          "base_uri": "https://localhost:8080/"
        }
      },
      "source": [
        "total_electoral_votes_per_simulation = np.sum(how_many_electoral_votes, axis=0)\n",
        "total_electoral_votes_per_simulation[:20]"
      ],
      "execution_count": 59,
      "outputs": [
        {
          "output_type": "execute_result",
          "data": {
            "text/plain": [
              "array([278, 309, 347, 316, 341, 338, 328, 288, 290, 312, 314, 332, 332,\n",
              "       332, 347, 316, 334, 351, 300, 336])"
            ]
          },
          "metadata": {
            "tags": []
          },
          "execution_count": 59
        }
      ]
    },
    {
      "cell_type": "markdown",
      "metadata": {
        "id": "7pn5KH3WjWkN"
      },
      "source": [
        "This is what Nate Silver and other prediction people will quote you. In How many simulations does Obama win? Well there are 538 electoral votes in the US. So you need 269 to break even. Lets compare:"
      ]
    },
    {
      "cell_type": "code",
      "metadata": {
        "id": "45rDzB_ojWkO",
        "outputId": "368a69d8-9831-4e25-f6fc-b5adcd23c6a6",
        "colab": {
          "base_uri": "https://localhost:8080/"
        }
      },
      "source": [
        "np.sum(total_electoral_votes_per_simulation >= 269)"
      ],
      "execution_count": 60,
      "outputs": [
        {
          "output_type": "execute_result",
          "data": {
            "text/plain": [
              "995"
            ]
          },
          "metadata": {
            "tags": []
          },
          "execution_count": 60
        }
      ]
    },
    {
      "cell_type": "markdown",
      "metadata": {
        "id": "WIGhhLNYjWkO"
      },
      "source": [
        "Thats 993 out of 1000 simulations or a 99.3% chance!"
      ]
    },
    {
      "cell_type": "markdown",
      "metadata": {
        "id": "-SQf8GhmjWkO"
      },
      "source": [
        "## Refactoring the simulation code"
      ]
    },
    {
      "cell_type": "markdown",
      "metadata": {
        "hide": true,
        "id": "_C0CMq50jWkP"
      },
      "source": [
        "Here then is the predictive model we are playing with in short: each column simulates a single outcome from the 50 states + DC by choosing a random number between 0 and 1. Obama wins that simulation if the random number is $<$ the win probability. If he wins that simulation, we add in the electoral votes for that state, otherwise we dont. We do this `n_sim` times and return a list of total Obama electoral votes in each simulation."
      ]
    },
    {
      "cell_type": "markdown",
      "metadata": {
        "id": "8V4wmLH-jWkP"
      },
      "source": [
        "### Q1:  *Write a function that uses this **predictive model** to simulate the outcome of the election given a Dataframe of probabilities*.\n",
        "\n"
      ]
    },
    {
      "cell_type": "code",
      "metadata": {
        "jupyter": {
          "outputs_hidden": false
        },
        "id": "GnRob5wgjWkQ"
      },
      "source": [
        "\"\"\"\n",
        "Function\n",
        "--------\n",
        "simulate_election\n",
        "\n",
        "Inputs\n",
        "------\n",
        "model : DataFrame\n",
        "    A DataFrame summarizing an election forecast. The dataframe has 51 rows -- one for each state and DC\n",
        "    It has the following columns:\n",
        "       Obama : Forecasted probability that Obama wins the state\n",
        "       Votes : Electoral votes for the state\n",
        "    The DataFrame is indexed by state (i.e., model.index is an array of state names)\n",
        "    \n",
        "n_sim : int\n",
        "   Number of simulations to run\n",
        "   \n",
        "Returns\n",
        "-------\n",
        "results : Numpy array with n_sim elements\n",
        "   Each element stores the number of electoral college votes Obama wins in each simulation.   \n",
        "\"\"\"\n",
        "\n",
        "# your code here\n"
      ],
      "execution_count": null,
      "outputs": []
    },
    {
      "cell_type": "markdown",
      "metadata": {
        "id": "v6urUJB7jWkQ"
      },
      "source": [
        "The following code takes the necessary probabilities for the Predictwise data, and runs 10000 simulations. If you think of this in terms of our coins, think of it as having 51 biased coins, one for each state, and tossing them 10,000 times each.\n",
        "\n",
        "We use the results to compute the number of simulations, according to this predictive model, that Obama wins the election (i.e., the probability that he receives 269 or more electoral college votes)"
      ]
    },
    {
      "cell_type": "code",
      "metadata": {
        "jupyter": {
          "outputs_hidden": false
        },
        "id": "g-kBd-3hjWkR"
      },
      "source": [
        "result = simulate_election(predictwise, 10000)\n",
        "print(type(result))\n",
        "np.sum(result >= 269)"
      ],
      "execution_count": null,
      "outputs": []
    },
    {
      "cell_type": "markdown",
      "metadata": {
        "id": "05V6uYnEjWkS"
      },
      "source": [
        "There are roughly only 50 simulations in which Romney wins the election!"
      ]
    },
    {
      "cell_type": "markdown",
      "metadata": {
        "id": "bH0JMavpjWkS"
      },
      "source": [
        "### Displaying the prediction\n",
        "\n",
        "Now, lets visualize the simulation. We will build a histogram from the result of `simulate_election`. We will **normalize** the histogram by dividing the frequency of a vote tally by the number of simulations. We'll overplot the \"victory threshold\" of 269 votes as a vertical black line and the result (Obama winning 332 votes) as a vertical red line.\n",
        "\n",
        "We also compute the number of votes at the 5th and 95th quantiles, which we call the spread, and display it (this is an estimate of the outcome's uncertainty). By 5th quantile we mean that if we ordered the number of votes Obama gets in each simulation in increasing order, the 5th quantile is the number below which 5\\% of the simulations lie. \n",
        "\n",
        "We also display the probability of an Obama victory, seeing a new feature in histograms, which is \"density\" plotting. Here we are normalizing the total frequency of the histogram to 1, to construct our notion of a probability from a large-number frquency.   "
      ]
    },
    {
      "cell_type": "code",
      "metadata": {
        "jupyter": {
          "outputs_hidden": false
        },
        "id": "3LUyF4dfjWkS"
      },
      "source": [
        "def plot_simulation(simulation):\n",
        "    fig, ax = plt.subplots(figsize=(12,6))\n",
        "    ax.hist(simulation, bins=np.arange(200, 538, 1), \n",
        "             label='simulations', align='left', density=True)\n",
        "    ax.axvline(332, 0, .5, color='r', label='Actual Outcome')\n",
        "    ax.axvline(269, 0, .5, color='k', label='Victory Threshold')\n",
        "    p05 = np.percentile(simulation, 5.)\n",
        "    p95 = np.percentile(simulation, 95.)\n",
        "    iq = int(p95 - p05)\n",
        "    pwin = ((simulation >= 269).mean() * 100)\n",
        "    ax.set_title(\"Chance of Obama Victory: %0.2f%%, Spread: %d votes\" % (pwin, iq))\n",
        "    ax.legend(frameon=False, loc='upper left')\n",
        "    ax.set_xlabel(\"Obama Electoral College Votes\")\n",
        "    ax.set_ylabel(\"Probability\")\n",
        "    ax.spines['top'].set_visible(False)\n",
        "    ax.spines['right'].set_visible(False)"
      ],
      "execution_count": null,
      "outputs": []
    },
    {
      "cell_type": "code",
      "metadata": {
        "jupyter": {
          "outputs_hidden": false
        },
        "id": "b07PUoLejWkT"
      },
      "source": [
        "plot_simulation(result)"
      ],
      "execution_count": null,
      "outputs": []
    },
    {
      "cell_type": "markdown",
      "metadata": {
        "id": "wbbG5SuNjWkT"
      },
      "source": [
        "The model created by combining the probabilities we obtained from Predictwise with the simulation of a biased coin flip corresponding to the win probability in each states leads us to obtain a histogram of election outcomes. We are plotting the probabilities of a prediction, so we call this distribution over outcomes the **predictive distribution**. Simulating from our model and plotting a histogram allows us to visualize this predictive distribution. In general, such a set of probabilities is called a **probability distribution** or **probability mass function**. "
      ]
    },
    {
      "cell_type": "markdown",
      "metadata": {
        "id": "ml3HdyXJjWkU"
      },
      "source": [
        "## PART 2: Estimating Probabilities"
      ]
    },
    {
      "cell_type": "markdown",
      "metadata": {
        "id": "JDMWYHESjWkU"
      },
      "source": [
        "Now we will try to **estimate** our own win probabilities to plug into our predictive model.\n",
        "\n",
        "We will start with a simple forecast model. We will try to predict the outcome of the election based the estimated proportion of people in each state who identify with one one political party or the other.\n",
        "\n",
        "Gallup measures the political leaning of each state, based on asking random people which party they identify or affiliate with. [Here's the data](http://www.gallup.com/poll/156437/heavily-democratic-states-concentrated-east.aspx#2) they collected from January-June of 2012:"
      ]
    },
    {
      "cell_type": "code",
      "metadata": {
        "id": "igjoE3cS4mNI",
        "outputId": "6969f083-a4e7-497c-8958-7e304502676f",
        "colab": {
          "base_uri": "https://localhost:8080/"
        }
      },
      "source": [
        "!wget https://raw.githubusercontent.com/nehal-sharma/HalfDayHacking/main/data/g12.csv"
      ],
      "execution_count": 62,
      "outputs": [
        {
          "output_type": "stream",
          "text": [
            "--2020-12-26 07:11:37--  https://raw.githubusercontent.com/nehal-sharma/HalfDayHacking/main/data/g12.csv\n",
            "Resolving raw.githubusercontent.com (raw.githubusercontent.com)... 151.101.0.133, 151.101.64.133, 151.101.128.133, ...\n",
            "Connecting to raw.githubusercontent.com (raw.githubusercontent.com)|151.101.0.133|:443... connected.\n",
            "HTTP request sent, awaiting response... 200 OK\n",
            "Length: 1537 (1.5K) [text/plain]\n",
            "Saving to: ‘g12.csv’\n",
            "\n",
            "\rg12.csv               0%[                    ]       0  --.-KB/s               \rg12.csv             100%[===================>]   1.50K  --.-KB/s    in 0s      \n",
            "\n",
            "2020-12-26 07:11:37 (22.9 MB/s) - ‘g12.csv’ saved [1537/1537]\n",
            "\n"
          ],
          "name": "stdout"
        }
      ]
    },
    {
      "cell_type": "code",
      "metadata": {
        "jupyter": {
          "outputs_hidden": false
        },
        "id": "CAP3waxCjWkU",
        "outputId": "a04c76fc-434f-4ccd-82d1-27315cc83b87",
        "colab": {
          "base_uri": "https://localhost:8080/",
          "height": 235
        }
      },
      "source": [
        "gallup_2012=pd.read_csv(\"g12.csv\").set_index('State')\n",
        "gallup_2012[\"Unknown\"] = 100 - gallup_2012.Democrat - gallup_2012.Republican\n",
        "gallup_2012.head()"
      ],
      "execution_count": 63,
      "outputs": [
        {
          "output_type": "execute_result",
          "data": {
            "text/html": [
              "<div>\n",
              "<style scoped>\n",
              "    .dataframe tbody tr th:only-of-type {\n",
              "        vertical-align: middle;\n",
              "    }\n",
              "\n",
              "    .dataframe tbody tr th {\n",
              "        vertical-align: top;\n",
              "    }\n",
              "\n",
              "    .dataframe thead th {\n",
              "        text-align: right;\n",
              "    }\n",
              "</style>\n",
              "<table border=\"1\" class=\"dataframe\">\n",
              "  <thead>\n",
              "    <tr style=\"text-align: right;\">\n",
              "      <th></th>\n",
              "      <th>Democrat</th>\n",
              "      <th>Republican</th>\n",
              "      <th>Dem_Adv</th>\n",
              "      <th>N</th>\n",
              "      <th>Unknown</th>\n",
              "    </tr>\n",
              "    <tr>\n",
              "      <th>State</th>\n",
              "      <th></th>\n",
              "      <th></th>\n",
              "      <th></th>\n",
              "      <th></th>\n",
              "      <th></th>\n",
              "    </tr>\n",
              "  </thead>\n",
              "  <tbody>\n",
              "    <tr>\n",
              "      <th>Alabama</th>\n",
              "      <td>36.0</td>\n",
              "      <td>49.6</td>\n",
              "      <td>-13.6</td>\n",
              "      <td>3197</td>\n",
              "      <td>14.4</td>\n",
              "    </tr>\n",
              "    <tr>\n",
              "      <th>Alaska</th>\n",
              "      <td>35.9</td>\n",
              "      <td>44.3</td>\n",
              "      <td>-8.4</td>\n",
              "      <td>402</td>\n",
              "      <td>19.8</td>\n",
              "    </tr>\n",
              "    <tr>\n",
              "      <th>Arizona</th>\n",
              "      <td>39.8</td>\n",
              "      <td>47.3</td>\n",
              "      <td>-7.5</td>\n",
              "      <td>4325</td>\n",
              "      <td>12.9</td>\n",
              "    </tr>\n",
              "    <tr>\n",
              "      <th>Arkansas</th>\n",
              "      <td>41.5</td>\n",
              "      <td>40.8</td>\n",
              "      <td>0.7</td>\n",
              "      <td>2071</td>\n",
              "      <td>17.7</td>\n",
              "    </tr>\n",
              "    <tr>\n",
              "      <th>California</th>\n",
              "      <td>48.3</td>\n",
              "      <td>34.6</td>\n",
              "      <td>13.7</td>\n",
              "      <td>16197</td>\n",
              "      <td>17.1</td>\n",
              "    </tr>\n",
              "  </tbody>\n",
              "</table>\n",
              "</div>"
            ],
            "text/plain": [
              "            Democrat  Republican  Dem_Adv      N  Unknown\n",
              "State                                                    \n",
              "Alabama         36.0        49.6    -13.6   3197     14.4\n",
              "Alaska          35.9        44.3     -8.4    402     19.8\n",
              "Arizona         39.8        47.3     -7.5   4325     12.9\n",
              "Arkansas        41.5        40.8      0.7   2071     17.7\n",
              "California      48.3        34.6     13.7  16197     17.1"
            ]
          },
          "metadata": {
            "tags": []
          },
          "execution_count": 63
        }
      ]
    },
    {
      "cell_type": "markdown",
      "metadata": {
        "id": "MTLGu_aQjWkV"
      },
      "source": [
        "Each row lists a state, the percent of surveyed individuals who identify as Democrat/Republican, the percent whose identification is unknown or who haven't made an affiliation yet, the margin between Democrats and Republicans (`Dem_Adv`: the percentage identifying as Democrats minus the percentage identifying as Republicans), and the number `N` of people surveyed.\n",
        "\n",
        "### QUESTION 2\n",
        "\n",
        "This survey can be used to predict the outcome of each State's election. The simplest forecast model assigns 100% probability that the state will vote for the majority party.  *Implement this simple forecast*."
      ]
    },
    {
      "cell_type": "code",
      "metadata": {
        "jupyter": {
          "outputs_hidden": false
        },
        "id": "fI6FerNgjWkV",
        "outputId": "73522c41-66ab-4557-98b5-722ab087e307",
        "colab": {
          "base_uri": "https://localhost:8080/"
        }
      },
      "source": [
        "\"\"\"\n",
        "Function\n",
        "--------\n",
        "simple_gallup_model\n",
        "\n",
        "A simple forecast that predicts an Obama (Democratic) victory with\n",
        "0 or 100% probability, depending on whether a state\n",
        "leans Republican or Democrat.\n",
        "\n",
        "Inputs\n",
        "------\n",
        "gallup : DataFrame\n",
        "    The Gallup dataframe above\n",
        "\n",
        "Returns\n",
        "-------\n",
        "model : DataFrame\n",
        "    A dataframe with the following column\n",
        "     * Obama: probability that the state votes for Obama. All values should be 0 or 1\n",
        "    model.index should be set to gallup.index (that is, it should be indexed by state name)\n",
        "    \n",
        "Examples\n",
        "---------\n",
        ">>> simple_gallup_model(gallup_2012).ix['Florida']\n",
        "Obama    1\n",
        "Name: Florida, dtype: float64\n",
        ">>> simple_gallup_model(gallup_2012).ix['Arizona']\n",
        "Obama    0\n",
        "Name: Arizona, dtype: float64\n",
        "\"\"\"\n",
        "\n",
        "# your code here\n",
        "gallup_2012.Dem_Adv.value_counts()\n",
        "\n"
      ],
      "execution_count": 64,
      "outputs": [
        {
          "output_type": "execute_result",
          "data": {
            "text/plain": [
              " 0.7     2\n",
              " 3.6     2\n",
              "-8.4     2\n",
              " 9.8     1\n",
              " 17.4    1\n",
              " 8.1     1\n",
              " 25.6    1\n",
              "-11.9    1\n",
              "-30.3    1\n",
              "-3.0     1\n",
              " 21.2    1\n",
              " 4.4     1\n",
              "-6.0     1\n",
              " 26.0    1\n",
              " 11.5    1\n",
              "-3.9     1\n",
              "-1.5     1\n",
              "-4.2     1\n",
              " 15.4    1\n",
              "-19.0    1\n",
              " 11.1    1\n",
              "-7.0     1\n",
              "-4.0     1\n",
              " 13.7    1\n",
              "-5.8     1\n",
              " 20.2    1\n",
              " 13.9    1\n",
              " 5.2     1\n",
              "-4.8     1\n",
              "-5.2     1\n",
              "-29.9    1\n",
              " 12.6    1\n",
              " 2.8     1\n",
              " 0.4     1\n",
              "-39.3    1\n",
              " 66.3    1\n",
              "-13.2    1\n",
              " 0.2     1\n",
              " 1.8     1\n",
              "-13.6    1\n",
              " 19.1    1\n",
              " 3.4     1\n",
              "-13.7    1\n",
              " 10.2    1\n",
              "-9.4     1\n",
              "-6.7     1\n",
              "-16.9    1\n",
              "-7.5     1\n",
              "Name: Dem_Adv, dtype: int64"
            ]
          },
          "metadata": {
            "tags": []
          },
          "execution_count": 64
        }
      ]
    },
    {
      "cell_type": "code",
      "metadata": {
        "id": "IsM5o3Di6hu4"
      },
      "source": [
        "gallup_simple = gallup_2012.copy()"
      ],
      "execution_count": 65,
      "outputs": []
    },
    {
      "cell_type": "code",
      "metadata": {
        "id": "zUPTLhBt6h8G",
        "outputId": "d44067b0-82a1-4f5b-9c09-3e064385e80d",
        "colab": {
          "base_uri": "https://localhost:8080/",
          "height": 129
        }
      },
      "source": [
        "gallup_simple['Obama'] = 0 if gallup_simple['Dem_Adv'] < 0 else: 1"
      ],
      "execution_count": 67,
      "outputs": [
        {
          "output_type": "error",
          "ename": "SyntaxError",
          "evalue": "ignored",
          "traceback": [
            "\u001b[0;36m  File \u001b[0;32m\"<ipython-input-67-4138d77af507>\"\u001b[0;36m, line \u001b[0;32m1\u001b[0m\n\u001b[0;31m    gallup_simple['Obama'] = 0 if gallup_simple['Dem_Adv'] < 0 else: 1\u001b[0m\n\u001b[0m                                                                   ^\u001b[0m\n\u001b[0;31mSyntaxError\u001b[0m\u001b[0;31m:\u001b[0m invalid syntax\n"
          ]
        }
      ]
    },
    {
      "cell_type": "markdown",
      "metadata": {
        "id": "HEmkbgsSjWkW"
      },
      "source": [
        "Now, we run the simulation with this model, and plot it."
      ]
    },
    {
      "cell_type": "code",
      "metadata": {
        "id": "7NXvEy5XjWkW"
      },
      "source": [
        "predictwise.head()"
      ],
      "execution_count": null,
      "outputs": []
    },
    {
      "cell_type": "code",
      "metadata": {
        "jupyter": {
          "outputs_hidden": false
        },
        "id": "TYBDn-_SjWkW"
      },
      "source": [
        "model = simple_gallup_model(gallup_2012)\n",
        "model = model.join(predictwise[['Votes']])\n",
        "prediction = simulate_election(model, 10000)\n",
        "\n",
        "plot_simulation(prediction)"
      ],
      "execution_count": null,
      "outputs": []
    },
    {
      "cell_type": "markdown",
      "metadata": {
        "id": "X6wZCXPMjWkX"
      },
      "source": [
        "## PART 3:  Adding Polling Uncertainty to the Predictive Model\n",
        "\n",
        "The model above is brittle -- it includes no accounting for uncertainty, and thus makes predictions with 100% confidence. This is clearly wrong -- there are numerous sources of uncertainty in estimating election outcomes from a poll of affiliations. \n",
        "\n",
        "The most obvious source of error in the Gallup data is the finite sample size -- Gallup did not poll *everybody* in America, and thus the party affilitions are subject to sampling errors. How much uncertainty does this introduce?\n",
        "\n",
        "On their [webpage](http://www.gallup.com/poll/156437/heavily-democratic-states-concentrated-east.aspx#2) discussing these data, Gallup notes that the sampling error for the states is between 3 and 6%, with it being 3% for most states. (The calculation of the sampling error itself is an exercise in statistics. Its fun to think of how you could arrive at the sampling error if it was not given to you. One way to do it would be to assume this was a two-choice situation and use binomial sampling error for the non-unknown answers, and further model the error for those who answered 'Unknown'.)\n",
        "\n",
        "This is indeed done even in direct polls just before the election. There too you cant ask everyone and mustworry about sampling.\n",
        "\n",
        "### QUESTION 3:\n",
        "\n",
        "Use Gallup's estimate of 3% to build a Gallup model with some uncertainty. Assume that the `Dem_Adv` column represents the mean of a Gaussian, whose standard deviation is 3%. Build the model in the function `uncertain_gallup_model`. *Return a forecast where the probability of an Obama victory is given by the probability that a sample from the `Dem_Adv` Gaussian is positive.*\n",
        "\n",
        "**Hint**\n",
        "The probability that a sample from a Gaussian with mean $\\mu$ and standard deviation $\\sigma$ exceeds a threhold $z$ can be found using the the Cumulative Distribution Function of a Gaussian:\n",
        "\n",
        "$$\n",
        "CDF(z) = \\frac1{2}\\left(1 + {\\rm erf}\\left(\\frac{z - \\mu}{\\sqrt{2 \\sigma^2}}\\right)\\right) \n",
        "$$\n"
      ]
    },
    {
      "cell_type": "code",
      "metadata": {
        "jupyter": {
          "outputs_hidden": false
        },
        "id": "5oXXyRbgjWkX"
      },
      "source": [
        "\"\"\"\n",
        "Function\n",
        "--------\n",
        "uncertain_gallup_model\n",
        "\n",
        "A forecast that predicts an Obama (Democratic) victory if the random variable drawn\n",
        "from a Gaussian with mean Dem_Adv and standard deviation 3% is >0\n",
        "\n",
        "Inputs\n",
        "------\n",
        "gallup : DataFrame\n",
        "    The Gallup dataframe above\n",
        "\n",
        "Returns\n",
        "-------\n",
        "model : DataFrame\n",
        "    A dataframe with the following column\n",
        "     * Obama: probability that the state votes for Obama.\n",
        "    model.index should be set to gallup.index (that is, it should be indexed by state name)\n",
        "\"\"\"\n",
        "# your code here\n"
      ],
      "execution_count": null,
      "outputs": []
    },
    {
      "cell_type": "code",
      "metadata": {
        "id": "QYPCT8P7jWkX"
      },
      "source": [
        "model = uncertain_gallup_model(gallup_2012)\n",
        "model = model.join(predictwise[['Votes']])"
      ],
      "execution_count": null,
      "outputs": []
    },
    {
      "cell_type": "code",
      "metadata": {
        "id": "yqck5EgNjWkY"
      },
      "source": [
        "prediction = simulate_election(model, 10000)\n",
        "plot_simulation(prediction)"
      ],
      "execution_count": null,
      "outputs": []
    }
  ]
}